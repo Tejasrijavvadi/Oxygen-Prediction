{
  "nbformat": 4,
  "nbformat_minor": 0,
  "metadata": {
    "colab": {
      "name": "Oxygen Prediction .ipynb",
      "provenance": [],
      "collapsed_sections": []
    },
    "kernelspec": {
      "name": "python3",
      "display_name": "Python 3"
    },
    "language_info": {
      "name": "python"
    },
    "accelerator": "GPU"
  },
  "cells": [
    {
      "cell_type": "markdown",
      "source": [
        "**Importing the necessary libraries**"
      ],
      "metadata": {
        "id": "69GvJq5K1MWS"
      }
    },
    {
      "cell_type": "code",
      "execution_count": 1,
      "metadata": {
        "id": "4_NqaJNA3x4q"
      },
      "outputs": [],
      "source": [
        "import numpy as np\n",
        "import pandas as pd\n",
        "from sklearn.linear_model import LogisticRegression\n",
        "from sklearn.model_selection import train_test_split \n",
        "import warnings\n",
        "import pickle \n",
        "warnings.filterwarnings(\"ignore\") "
      ]
    },
    {
      "cell_type": "code",
      "source": [
        "data = pd.read_csv(\"/content/Forest_fire.csv\")  "
      ],
      "metadata": {
        "id": "jG49kCPa5MdU"
      },
      "execution_count": 4,
      "outputs": []
    },
    {
      "cell_type": "code",
      "source": [
        "data"
      ],
      "metadata": {
        "colab": {
          "base_uri": "https://localhost:8080/",
          "height": 424
        },
        "id": "IT9cGjkX5TVY",
        "outputId": "f605a466-0a3f-45e9-f100-321bab105bca"
      },
      "execution_count": 5,
      "outputs": [
        {
          "output_type": "execute_result",
          "data": {
            "text/plain": [
              "          Area  Oxygen  Temperature  Humidity  Fire Occurrence  Unnamed: 5  \\\n",
              "0     Jharkand    40.0         45.0      20.0              1.0         NaN   \n",
              "1    Bangalore    50.0         30.0      10.0              1.0         NaN   \n",
              "2      Ecuador    10.0         20.0      70.0              0.0         NaN   \n",
              "3            a    60.0         45.0      70.0              1.0         NaN   \n",
              "4    Bangalore    30.0         48.0      10.0              1.0         NaN   \n",
              "..         ...     ...          ...       ...              ...         ...   \n",
              "215        NaN     NaN          NaN       NaN              NaN         NaN   \n",
              "216        NaN     NaN          NaN       NaN              NaN         NaN   \n",
              "217        NaN     NaN          NaN       NaN              NaN         NaN   \n",
              "218        NaN     NaN          NaN       NaN              NaN         NaN   \n",
              "219        NaN     NaN          NaN       NaN              NaN         NaN   \n",
              "\n",
              "     oxygenpred  temppred  Humiditypred  \n",
              "0            40        45            20  \n",
              "1            40        44            24  \n",
              "2            40        43            28  \n",
              "3            41        45            33  \n",
              "4            41        43            36  \n",
              "..          ...       ...           ...  \n",
              "215          61        38            20  \n",
              "216          63        38            24  \n",
              "217          67        40            27  \n",
              "218          69        42            30  \n",
              "219          70        44            33  \n",
              "\n",
              "[220 rows x 9 columns]"
            ],
            "text/html": [
              "\n",
              "  <div id=\"df-96be1fa2-e6b1-4518-97fb-108cf5375e90\">\n",
              "    <div class=\"colab-df-container\">\n",
              "      <div>\n",
              "<style scoped>\n",
              "    .dataframe tbody tr th:only-of-type {\n",
              "        vertical-align: middle;\n",
              "    }\n",
              "\n",
              "    .dataframe tbody tr th {\n",
              "        vertical-align: top;\n",
              "    }\n",
              "\n",
              "    .dataframe thead th {\n",
              "        text-align: right;\n",
              "    }\n",
              "</style>\n",
              "<table border=\"1\" class=\"dataframe\">\n",
              "  <thead>\n",
              "    <tr style=\"text-align: right;\">\n",
              "      <th></th>\n",
              "      <th>Area</th>\n",
              "      <th>Oxygen</th>\n",
              "      <th>Temperature</th>\n",
              "      <th>Humidity</th>\n",
              "      <th>Fire Occurrence</th>\n",
              "      <th>Unnamed: 5</th>\n",
              "      <th>oxygenpred</th>\n",
              "      <th>temppred</th>\n",
              "      <th>Humiditypred</th>\n",
              "    </tr>\n",
              "  </thead>\n",
              "  <tbody>\n",
              "    <tr>\n",
              "      <th>0</th>\n",
              "      <td>Jharkand</td>\n",
              "      <td>40.0</td>\n",
              "      <td>45.0</td>\n",
              "      <td>20.0</td>\n",
              "      <td>1.0</td>\n",
              "      <td>NaN</td>\n",
              "      <td>40</td>\n",
              "      <td>45</td>\n",
              "      <td>20</td>\n",
              "    </tr>\n",
              "    <tr>\n",
              "      <th>1</th>\n",
              "      <td>Bangalore</td>\n",
              "      <td>50.0</td>\n",
              "      <td>30.0</td>\n",
              "      <td>10.0</td>\n",
              "      <td>1.0</td>\n",
              "      <td>NaN</td>\n",
              "      <td>40</td>\n",
              "      <td>44</td>\n",
              "      <td>24</td>\n",
              "    </tr>\n",
              "    <tr>\n",
              "      <th>2</th>\n",
              "      <td>Ecuador</td>\n",
              "      <td>10.0</td>\n",
              "      <td>20.0</td>\n",
              "      <td>70.0</td>\n",
              "      <td>0.0</td>\n",
              "      <td>NaN</td>\n",
              "      <td>40</td>\n",
              "      <td>43</td>\n",
              "      <td>28</td>\n",
              "    </tr>\n",
              "    <tr>\n",
              "      <th>3</th>\n",
              "      <td>a</td>\n",
              "      <td>60.0</td>\n",
              "      <td>45.0</td>\n",
              "      <td>70.0</td>\n",
              "      <td>1.0</td>\n",
              "      <td>NaN</td>\n",
              "      <td>41</td>\n",
              "      <td>45</td>\n",
              "      <td>33</td>\n",
              "    </tr>\n",
              "    <tr>\n",
              "      <th>4</th>\n",
              "      <td>Bangalore</td>\n",
              "      <td>30.0</td>\n",
              "      <td>48.0</td>\n",
              "      <td>10.0</td>\n",
              "      <td>1.0</td>\n",
              "      <td>NaN</td>\n",
              "      <td>41</td>\n",
              "      <td>43</td>\n",
              "      <td>36</td>\n",
              "    </tr>\n",
              "    <tr>\n",
              "      <th>...</th>\n",
              "      <td>...</td>\n",
              "      <td>...</td>\n",
              "      <td>...</td>\n",
              "      <td>...</td>\n",
              "      <td>...</td>\n",
              "      <td>...</td>\n",
              "      <td>...</td>\n",
              "      <td>...</td>\n",
              "      <td>...</td>\n",
              "    </tr>\n",
              "    <tr>\n",
              "      <th>215</th>\n",
              "      <td>NaN</td>\n",
              "      <td>NaN</td>\n",
              "      <td>NaN</td>\n",
              "      <td>NaN</td>\n",
              "      <td>NaN</td>\n",
              "      <td>NaN</td>\n",
              "      <td>61</td>\n",
              "      <td>38</td>\n",
              "      <td>20</td>\n",
              "    </tr>\n",
              "    <tr>\n",
              "      <th>216</th>\n",
              "      <td>NaN</td>\n",
              "      <td>NaN</td>\n",
              "      <td>NaN</td>\n",
              "      <td>NaN</td>\n",
              "      <td>NaN</td>\n",
              "      <td>NaN</td>\n",
              "      <td>63</td>\n",
              "      <td>38</td>\n",
              "      <td>24</td>\n",
              "    </tr>\n",
              "    <tr>\n",
              "      <th>217</th>\n",
              "      <td>NaN</td>\n",
              "      <td>NaN</td>\n",
              "      <td>NaN</td>\n",
              "      <td>NaN</td>\n",
              "      <td>NaN</td>\n",
              "      <td>NaN</td>\n",
              "      <td>67</td>\n",
              "      <td>40</td>\n",
              "      <td>27</td>\n",
              "    </tr>\n",
              "    <tr>\n",
              "      <th>218</th>\n",
              "      <td>NaN</td>\n",
              "      <td>NaN</td>\n",
              "      <td>NaN</td>\n",
              "      <td>NaN</td>\n",
              "      <td>NaN</td>\n",
              "      <td>NaN</td>\n",
              "      <td>69</td>\n",
              "      <td>42</td>\n",
              "      <td>30</td>\n",
              "    </tr>\n",
              "    <tr>\n",
              "      <th>219</th>\n",
              "      <td>NaN</td>\n",
              "      <td>NaN</td>\n",
              "      <td>NaN</td>\n",
              "      <td>NaN</td>\n",
              "      <td>NaN</td>\n",
              "      <td>NaN</td>\n",
              "      <td>70</td>\n",
              "      <td>44</td>\n",
              "      <td>33</td>\n",
              "    </tr>\n",
              "  </tbody>\n",
              "</table>\n",
              "<p>220 rows × 9 columns</p>\n",
              "</div>\n",
              "      <button class=\"colab-df-convert\" onclick=\"convertToInteractive('df-96be1fa2-e6b1-4518-97fb-108cf5375e90')\"\n",
              "              title=\"Convert this dataframe to an interactive table.\"\n",
              "              style=\"display:none;\">\n",
              "        \n",
              "  <svg xmlns=\"http://www.w3.org/2000/svg\" height=\"24px\"viewBox=\"0 0 24 24\"\n",
              "       width=\"24px\">\n",
              "    <path d=\"M0 0h24v24H0V0z\" fill=\"none\"/>\n",
              "    <path d=\"M18.56 5.44l.94 2.06.94-2.06 2.06-.94-2.06-.94-.94-2.06-.94 2.06-2.06.94zm-11 1L8.5 8.5l.94-2.06 2.06-.94-2.06-.94L8.5 2.5l-.94 2.06-2.06.94zm10 10l.94 2.06.94-2.06 2.06-.94-2.06-.94-.94-2.06-.94 2.06-2.06.94z\"/><path d=\"M17.41 7.96l-1.37-1.37c-.4-.4-.92-.59-1.43-.59-.52 0-1.04.2-1.43.59L10.3 9.45l-7.72 7.72c-.78.78-.78 2.05 0 2.83L4 21.41c.39.39.9.59 1.41.59.51 0 1.02-.2 1.41-.59l7.78-7.78 2.81-2.81c.8-.78.8-2.07 0-2.86zM5.41 20L4 18.59l7.72-7.72 1.47 1.35L5.41 20z\"/>\n",
              "  </svg>\n",
              "      </button>\n",
              "      \n",
              "  <style>\n",
              "    .colab-df-container {\n",
              "      display:flex;\n",
              "      flex-wrap:wrap;\n",
              "      gap: 12px;\n",
              "    }\n",
              "\n",
              "    .colab-df-convert {\n",
              "      background-color: #E8F0FE;\n",
              "      border: none;\n",
              "      border-radius: 50%;\n",
              "      cursor: pointer;\n",
              "      display: none;\n",
              "      fill: #1967D2;\n",
              "      height: 32px;\n",
              "      padding: 0 0 0 0;\n",
              "      width: 32px;\n",
              "    }\n",
              "\n",
              "    .colab-df-convert:hover {\n",
              "      background-color: #E2EBFA;\n",
              "      box-shadow: 0px 1px 2px rgba(60, 64, 67, 0.3), 0px 1px 3px 1px rgba(60, 64, 67, 0.15);\n",
              "      fill: #174EA6;\n",
              "    }\n",
              "\n",
              "    [theme=dark] .colab-df-convert {\n",
              "      background-color: #3B4455;\n",
              "      fill: #D2E3FC;\n",
              "    }\n",
              "\n",
              "    [theme=dark] .colab-df-convert:hover {\n",
              "      background-color: #434B5C;\n",
              "      box-shadow: 0px 1px 3px 1px rgba(0, 0, 0, 0.15);\n",
              "      filter: drop-shadow(0px 1px 2px rgba(0, 0, 0, 0.3));\n",
              "      fill: #FFFFFF;\n",
              "    }\n",
              "  </style>\n",
              "\n",
              "      <script>\n",
              "        const buttonEl =\n",
              "          document.querySelector('#df-96be1fa2-e6b1-4518-97fb-108cf5375e90 button.colab-df-convert');\n",
              "        buttonEl.style.display =\n",
              "          google.colab.kernel.accessAllowed ? 'block' : 'none';\n",
              "\n",
              "        async function convertToInteractive(key) {\n",
              "          const element = document.querySelector('#df-96be1fa2-e6b1-4518-97fb-108cf5375e90');\n",
              "          const dataTable =\n",
              "            await google.colab.kernel.invokeFunction('convertToInteractive',\n",
              "                                                     [key], {});\n",
              "          if (!dataTable) return;\n",
              "\n",
              "          const docLinkHtml = 'Like what you see? Visit the ' +\n",
              "            '<a target=\"_blank\" href=https://colab.research.google.com/notebooks/data_table.ipynb>data table notebook</a>'\n",
              "            + ' to learn more about interactive tables.';\n",
              "          element.innerHTML = '';\n",
              "          dataTable['output_type'] = 'display_data';\n",
              "          await google.colab.output.renderOutput(dataTable, element);\n",
              "          const docLink = document.createElement('div');\n",
              "          docLink.innerHTML = docLinkHtml;\n",
              "          element.appendChild(docLink);\n",
              "        }\n",
              "      </script>\n",
              "    </div>\n",
              "  </div>\n",
              "  "
            ]
          },
          "metadata": {},
          "execution_count": 5
        }
      ]
    },
    {
      "cell_type": "markdown",
      "source": [
        "**Univariate Analysis for oxygen prediction**"
      ],
      "metadata": {
        "id": "F72ZJaBm1UVJ"
      }
    },
    {
      "cell_type": "code",
      "source": [
        "print(data.oxygenpred)"
      ],
      "metadata": {
        "colab": {
          "base_uri": "https://localhost:8080/"
        },
        "id": "IOHCaSCtWkXH",
        "outputId": "2414818c-133e-4300-814f-451ab34a9d90"
      },
      "execution_count": 7,
      "outputs": [
        {
          "output_type": "stream",
          "name": "stdout",
          "text": [
            "0      40\n",
            "1      40\n",
            "2      40\n",
            "3      41\n",
            "4      41\n",
            "       ..\n",
            "215    61\n",
            "216    63\n",
            "217    67\n",
            "218    69\n",
            "219    70\n",
            "Name: oxygenpred, Length: 220, dtype: int64\n"
          ]
        }
      ]
    },
    {
      "cell_type": "code",
      "source": [
        "data=(data[\"oxygenpred\"])"
      ],
      "metadata": {
        "id": "_8MD-ZruTAAU"
      },
      "execution_count": 8,
      "outputs": []
    },
    {
      "cell_type": "code",
      "source": [
        "data"
      ],
      "metadata": {
        "colab": {
          "base_uri": "https://localhost:8080/"
        },
        "id": "TGpCpBQSXCT4",
        "outputId": "524da751-65be-43a1-84f7-34c26199fa95"
      },
      "execution_count": 9,
      "outputs": [
        {
          "output_type": "execute_result",
          "data": {
            "text/plain": [
              "0      40\n",
              "1      40\n",
              "2      40\n",
              "3      41\n",
              "4      41\n",
              "       ..\n",
              "215    61\n",
              "216    63\n",
              "217    67\n",
              "218    69\n",
              "219    70\n",
              "Name: oxygenpred, Length: 220, dtype: int64"
            ]
          },
          "metadata": {},
          "execution_count": 9
        }
      ]
    },
    {
      "cell_type": "code",
      "source": [
        "data.shape"
      ],
      "metadata": {
        "colab": {
          "base_uri": "https://localhost:8080/"
        },
        "id": "hNL07jDA5Uo5",
        "outputId": "9eec9b98-242f-4cca-f0f6-fb42ac3111d5"
      },
      "execution_count": 10,
      "outputs": [
        {
          "output_type": "execute_result",
          "data": {
            "text/plain": [
              "(220,)"
            ]
          },
          "metadata": {},
          "execution_count": 10
        }
      ]
    },
    {
      "cell_type": "code",
      "source": [
        "data.describe()"
      ],
      "metadata": {
        "colab": {
          "base_uri": "https://localhost:8080/"
        },
        "id": "y_DSdZ4a5ZBL",
        "outputId": "ae398f5e-4379-4568-971d-6c452e8f3a50"
      },
      "execution_count": 11,
      "outputs": [
        {
          "output_type": "execute_result",
          "data": {
            "text/plain": [
              "count    220.000000\n",
              "mean      41.513636\n",
              "std       20.564073\n",
              "min        1.000000\n",
              "25%       25.750000\n",
              "50%       40.000000\n",
              "75%       57.000000\n",
              "max       88.000000\n",
              "Name: oxygenpred, dtype: float64"
            ]
          },
          "metadata": {},
          "execution_count": 11
        }
      ]
    },
    {
      "cell_type": "code",
      "source": [
        "import matplotlib.pyplot as plt "
      ],
      "metadata": {
        "id": "BXQOmt_R5_gB"
      },
      "execution_count": 12,
      "outputs": []
    },
    {
      "cell_type": "code",
      "source": [
        "data"
      ],
      "metadata": {
        "colab": {
          "base_uri": "https://localhost:8080/"
        },
        "id": "FzcUq7AK6tlg",
        "outputId": "976a4e5f-5293-4338-b97e-9f5a60c72e91"
      },
      "execution_count": 13,
      "outputs": [
        {
          "output_type": "execute_result",
          "data": {
            "text/plain": [
              "0      40\n",
              "1      40\n",
              "2      40\n",
              "3      41\n",
              "4      41\n",
              "       ..\n",
              "215    61\n",
              "216    63\n",
              "217    67\n",
              "218    69\n",
              "219    70\n",
              "Name: oxygenpred, Length: 220, dtype: int64"
            ]
          },
          "metadata": {},
          "execution_count": 13
        }
      ]
    },
    {
      "cell_type": "code",
      "source": [
        "df=np.array(data)  "
      ],
      "metadata": {
        "id": "RmD6B9De6uSt"
      },
      "execution_count": 14,
      "outputs": []
    },
    {
      "cell_type": "code",
      "source": [
        "df "
      ],
      "metadata": {
        "colab": {
          "base_uri": "https://localhost:8080/"
        },
        "id": "Q8S5xLms6xN-",
        "outputId": "b7d4b22f-b492-4f06-c626-b7da1375fe5b"
      },
      "execution_count": 15,
      "outputs": [
        {
          "output_type": "execute_result",
          "data": {
            "text/plain": [
              "array([40, 40, 40, 41, 41, 40, 45, 47, 50, 49, 48, 47, 40, 46, 45, 44, 41,\n",
              "       39, 36, 35, 35, 35, 33, 32, 33, 33, 32, 30, 29, 27, 27, 26, 25, 27,\n",
              "       29, 26, 23, 22, 22, 24, 21, 20, 19, 19, 15, 18, 16, 15, 13, 12, 10,\n",
              "       14, 15, 18, 20, 25, 26, 22, 29, 30, 32, 35, 37, 39, 39, 36, 31, 36,\n",
              "       35, 39, 40, 41, 45, 45, 46, 47, 48, 43, 47, 49, 50, 53, 54, 55, 56,\n",
              "       52, 57, 58, 60, 65, 66, 69, 66, 67, 69, 72, 69, 66, 70, 73, 77, 74,\n",
              "       79, 81, 83, 82, 84, 86, 88, 76, 75, 77, 80, 84, 79, 76, 74, 72, 69,\n",
              "       66, 63, 69, 67, 66, 65, 62, 63, 60, 66, 60, 59, 57, 54, 52, 56, 54,\n",
              "       52, 51, 49, 49, 51, 43, 44, 40, 38, 33, 32, 36, 37, 34, 32, 30, 29,\n",
              "       25, 24, 22, 21, 18, 17, 16, 19, 23, 21, 16, 15, 14, 14, 14, 13, 10,\n",
              "        9,  8,  6,  7,  5,  8,  4,  3,  1,  8, 12, 13, 15, 16, 19, 23, 26,\n",
              "       29, 34, 36, 38, 39, 35, 34, 30, 35, 39, 39, 40, 43, 46, 42, 45, 47,\n",
              "       49, 45, 47, 49, 50, 55, 57, 58, 59, 60, 65, 61, 63, 67, 69, 70])"
            ]
          },
          "metadata": {},
          "execution_count": 15
        }
      ]
    },
    {
      "cell_type": "code",
      "source": [
        "import numpy as np\n",
        "import matplotlib.pyplot as plt\n",
        "\n",
        "plt.rcParams[\"figure.figsize\"] = [7.50, 3.50]\n",
        "plt.rcParams[\"figure.autolayout\"] = True\n",
        "\n",
        "x = np.array([5, 4, 1, 4, 5])\n",
        "y = np.sort(df)\n",
        "\n",
        "plt.title(\"Dataset\")\n",
        "plt.plot(y, df, color=\"red\")\n",
        "\n",
        "\n",
        "\n",
        "\n",
        "plt.xlabel('Number of datapoints', fontsize=14)\n",
        "plt.ylabel('oxygen values', fontsize=14)\n",
        "\n",
        "plt.legend();\n",
        "plt.savefig(\"datasetoxygen.png\")\n",
        "plt.show()"
      ],
      "metadata": {
        "colab": {
          "base_uri": "https://localhost:8080/",
          "height": 278
        },
        "id": "zzARjkaEYD6s",
        "outputId": "9c595a18-0122-40ef-cd37-cdf8a3f5d348"
      },
      "execution_count": 17,
      "outputs": [
        {
          "output_type": "stream",
          "name": "stderr",
          "text": [
            "No handles with labels found to put in legend.\n"
          ]
        },
        {
          "output_type": "display_data",
          "data": {
            "text/plain": [
              "<Figure size 540x252 with 1 Axes>"
            ],
            "image/png": "[encoded data removed]"
          },
          "metadata": {
            "needs_background": "light"
          }
        }
      ]
    },
    {
      "cell_type": "code",
      "source": [
        "def split_sequence(sequence, n_steps):\n",
        "\tX, y = list(), list()\n",
        "\tfor i in range(len(sequence)):\n",
        "\t\t# find the end of this pattern\n",
        "\t\tend_ix = i + n_steps  \n",
        "\t\t# check if we are beyond the sequence \n",
        "\t\tif end_ix > len(sequence)-1: \n",
        "\t\t\tbreak         \n",
        "\t\t# gather input and output parts of the pattern\n",
        "\t\tseq_x, seq_y = sequence[i:end_ix], sequence[end_ix]\n",
        "\t\tX.append(seq_x)\n",
        "\t\ty.append(seq_y)\n",
        "\treturn array(X), array(y)"
      ],
      "metadata": {
        "id": "3ziDKmVu6yMi"
      },
      "execution_count": 18,
      "outputs": []
    },
    {
      "cell_type": "markdown",
      "source": [
        "**Convert unsupervised data to supervised data**"
      ],
      "metadata": {
        "id": "c65eR5Bw1dUH"
      }
    },
    {
      "cell_type": "code",
      "source": [
        "from numpy import array\n",
        " \n",
        "# split a univariate sequence into samples\n",
        "def split_sequence(sequence, n_steps):\n",
        "\tX, y = list(), list()\n",
        "\tfor i in range(len(sequence)):\n",
        "\t\t# find the end of this pattern\n",
        "\t\tend_ix = i + n_steps\n",
        "\t\t# check if we are beyond the sequence\n",
        "\t\tif end_ix > len(sequence)-1:\n",
        "\t\t\tbreak\n",
        "\t\t# gather input and output parts of the pattern\n",
        "\t\tseq_x, seq_y = sequence[i:end_ix], sequence[end_ix]\n",
        "\t\tX.append(seq_x)\n",
        "\t\ty.append(seq_y)\n",
        "\treturn array(X), array(y)\n",
        " \n",
        "# define input sequence\n",
        "raw_seq = df\n",
        "# choose a number of time steps\n",
        "n_steps = 3\n",
        "# split into samples\n",
        "X, y = split_sequence(raw_seq, n_steps)\n",
        "# summarize the data\n",
        "for i in range(len(X)):\n",
        "\tprint(X[i], y[i])"
      ],
      "metadata": {
        "colab": {
          "base_uri": "https://localhost:8080/"
        },
        "id": "xpIMXj_D61jR",
        "outputId": "66f2fcff-aacf-4cd6-9bd2-cd195605f6d0"
      },
      "execution_count": 19,
      "outputs": [
        {
          "output_type": "stream",
          "name": "stdout",
          "text": [
            "[40 40 40] 41\n",
            "[40 40 41] 41\n",
            "[40 41 41] 40\n",
            "[41 41 40] 45\n",
            "[41 40 45] 47\n",
            "[40 45 47] 50\n",
            "[45 47 50] 49\n",
            "[47 50 49] 48\n",
            "[50 49 48] 47\n",
            "[49 48 47] 40\n",
            "[48 47 40] 46\n",
            "[47 40 46] 45\n",
            "[40 46 45] 44\n",
            "[46 45 44] 41\n",
            "[45 44 41] 39\n",
            "[44 41 39] 36\n",
            "[41 39 36] 35\n",
            "[39 36 35] 35\n",
            "[36 35 35] 35\n",
            "[35 35 35] 33\n",
            "[35 35 33] 32\n",
            "[35 33 32] 33\n",
            "[33 32 33] 33\n",
            "[32 33 33] 32\n",
            "[33 33 32] 30\n",
            "[33 32 30] 29\n",
            "[32 30 29] 27\n",
            "[30 29 27] 27\n",
            "[29 27 27] 26\n",
            "[27 27 26] 25\n",
            "[27 26 25] 27\n",
            "[26 25 27] 29\n",
            "[25 27 29] 26\n",
            "[27 29 26] 23\n",
            "[29 26 23] 22\n",
            "[26 23 22] 22\n",
            "[23 22 22] 24\n",
            "[22 22 24] 21\n",
            "[22 24 21] 20\n",
            "[24 21 20] 19\n",
            "[21 20 19] 19\n",
            "[20 19 19] 15\n",
            "[19 19 15] 18\n",
            "[19 15 18] 16\n",
            "[15 18 16] 15\n",
            "[18 16 15] 13\n",
            "[16 15 13] 12\n",
            "[15 13 12] 10\n",
            "[13 12 10] 14\n",
            "[12 10 14] 15\n",
            "[10 14 15] 18\n",
            "[14 15 18] 20\n",
            "[15 18 20] 25\n",
            "[18 20 25] 26\n",
            "[20 25 26] 22\n",
            "[25 26 22] 29\n",
            "[26 22 29] 30\n",
            "[22 29 30] 32\n",
            "[29 30 32] 35\n",
            "[30 32 35] 37\n",
            "[32 35 37] 39\n",
            "[35 37 39] 39\n",
            "[37 39 39] 36\n",
            "[39 39 36] 31\n",
            "[39 36 31] 36\n",
            "[36 31 36] 35\n",
            "[31 36 35] 39\n",
            "[36 35 39] 40\n",
            "[35 39 40] 41\n",
            "[39 40 41] 45\n",
            "[40 41 45] 45\n",
            "[41 45 45] 46\n",
            "[45 45 46] 47\n",
            "[45 46 47] 48\n",
            "[46 47 48] 43\n",
            "[47 48 43] 47\n",
            "[48 43 47] 49\n",
            "[43 47 49] 50\n",
            "[47 49 50] 53\n",
            "[49 50 53] 54\n",
            "[50 53 54] 55\n",
            "[53 54 55] 56\n",
            "[54 55 56] 52\n",
            "[55 56 52] 57\n",
            "[56 52 57] 58\n",
            "[52 57 58] 60\n",
            "[57 58 60] 65\n",
            "[58 60 65] 66\n",
            "[60 65 66] 69\n",
            "[65 66 69] 66\n",
            "[66 69 66] 67\n",
            "[69 66 67] 69\n",
            "[66 67 69] 72\n",
            "[67 69 72] 69\n",
            "[69 72 69] 66\n",
            "[72 69 66] 70\n",
            "[69 66 70] 73\n",
            "[66 70 73] 77\n",
            "[70 73 77] 74\n",
            "[73 77 74] 79\n",
            "[77 74 79] 81\n",
            "[74 79 81] 83\n",
            "[79 81 83] 82\n",
            "[81 83 82] 84\n",
            "[83 82 84] 86\n",
            "[82 84 86] 88\n",
            "[84 86 88] 76\n",
            "[86 88 76] 75\n",
            "[88 76 75] 77\n",
            "[76 75 77] 80\n",
            "[75 77 80] 84\n",
            "[77 80 84] 79\n",
            "[80 84 79] 76\n",
            "[84 79 76] 74\n",
            "[79 76 74] 72\n",
            "[76 74 72] 69\n",
            "[74 72 69] 66\n",
            "[72 69 66] 63\n",
            "[69 66 63] 69\n",
            "[66 63 69] 67\n",
            "[63 69 67] 66\n",
            "[69 67 66] 65\n",
            "[67 66 65] 62\n",
            "[66 65 62] 63\n",
            "[65 62 63] 60\n",
            "[62 63 60] 66\n",
            "[63 60 66] 60\n",
            "[60 66 60] 59\n",
            "[66 60 59] 57\n",
            "[60 59 57] 54\n",
            "[59 57 54] 52\n",
            "[57 54 52] 56\n",
            "[54 52 56] 54\n",
            "[52 56 54] 52\n",
            "[56 54 52] 51\n",
            "[54 52 51] 49\n",
            "[52 51 49] 49\n",
            "[51 49 49] 51\n",
            "[49 49 51] 43\n",
            "[49 51 43] 44\n",
            "[51 43 44] 40\n",
            "[43 44 40] 38\n",
            "[44 40 38] 33\n",
            "[40 38 33] 32\n",
            "[38 33 32] 36\n",
            "[33 32 36] 37\n",
            "[32 36 37] 34\n",
            "[36 37 34] 32\n",
            "[37 34 32] 30\n",
            "[34 32 30] 29\n",
            "[32 30 29] 25\n",
            "[30 29 25] 24\n",
            "[29 25 24] 22\n",
            "[25 24 22] 21\n",
            "[24 22 21] 18\n",
            "[22 21 18] 17\n",
            "[21 18 17] 16\n",
            "[18 17 16] 19\n",
            "[17 16 19] 23\n",
            "[16 19 23] 21\n",
            "[19 23 21] 16\n",
            "[23 21 16] 15\n",
            "[21 16 15] 14\n",
            "[16 15 14] 14\n",
            "[15 14 14] 14\n",
            "[14 14 14] 13\n",
            "[14 14 13] 10\n",
            "[14 13 10] 9\n",
            "[13 10  9] 8\n",
            "[10  9  8] 6\n",
            "[9 8 6] 7\n",
            "[8 6 7] 5\n",
            "[6 7 5] 8\n",
            "[7 5 8] 4\n",
            "[5 8 4] 3\n",
            "[8 4 3] 1\n",
            "[4 3 1] 8\n",
            "[3 1 8] 12\n",
            "[ 1  8 12] 13\n",
            "[ 8 12 13] 15\n",
            "[12 13 15] 16\n",
            "[13 15 16] 19\n",
            "[15 16 19] 23\n",
            "[16 19 23] 26\n",
            "[19 23 26] 29\n",
            "[23 26 29] 34\n",
            "[26 29 34] 36\n",
            "[29 34 36] 38\n",
            "[34 36 38] 39\n",
            "[36 38 39] 35\n",
            "[38 39 35] 34\n",
            "[39 35 34] 30\n",
            "[35 34 30] 35\n",
            "[34 30 35] 39\n",
            "[30 35 39] 39\n",
            "[35 39 39] 40\n",
            "[39 39 40] 43\n",
            "[39 40 43] 46\n",
            "[40 43 46] 42\n",
            "[43 46 42] 45\n",
            "[46 42 45] 47\n",
            "[42 45 47] 49\n",
            "[45 47 49] 45\n",
            "[47 49 45] 47\n",
            "[49 45 47] 49\n",
            "[45 47 49] 50\n",
            "[47 49 50] 55\n",
            "[49 50 55] 57\n",
            "[50 55 57] 58\n",
            "[55 57 58] 59\n",
            "[57 58 59] 60\n",
            "[58 59 60] 65\n",
            "[59 60 65] 61\n",
            "[60 65 61] 63\n",
            "[65 61 63] 67\n",
            "[61 63 67] 69\n",
            "[63 67 69] 70\n"
          ]
        }
      ]
    },
    {
      "cell_type": "code",
      "source": [
        "X"
      ],
      "metadata": {
        "colab": {
          "base_uri": "https://localhost:8080/"
        },
        "id": "-ClzXI9y7zar",
        "outputId": "3d0ad4a1-e9a3-408f-f9ed-c70881c877b4"
      },
      "execution_count": 20,
      "outputs": [
        {
          "output_type": "execute_result",
          "data": {
            "text/plain": [
              "array([[40, 40, 40],\n",
              "       [40, 40, 41],\n",
              "       [40, 41, 41],\n",
              "       [41, 41, 40],\n",
              "       [41, 40, 45],\n",
              "       [40, 45, 47],\n",
              "       [45, 47, 50],\n",
              "       [47, 50, 49],\n",
              "       [50, 49, 48],\n",
              "       [49, 48, 47],\n",
              "       [48, 47, 40],\n",
              "       [47, 40, 46],\n",
              "       [40, 46, 45],\n",
              "       [46, 45, 44],\n",
              "       [45, 44, 41],\n",
              "       [44, 41, 39],\n",
              "       [41, 39, 36],\n",
              "       [39, 36, 35],\n",
              "       [36, 35, 35],\n",
              "       [35, 35, 35],\n",
              "       [35, 35, 33],\n",
              "       [35, 33, 32],\n",
              "       [33, 32, 33],\n",
              "       [32, 33, 33],\n",
              "       [33, 33, 32],\n",
              "       [33, 32, 30],\n",
              "       [32, 30, 29],\n",
              "       [30, 29, 27],\n",
              "       [29, 27, 27],\n",
              "       [27, 27, 26],\n",
              "       [27, 26, 25],\n",
              "       [26, 25, 27],\n",
              "       [25, 27, 29],\n",
              "       [27, 29, 26],\n",
              "       [29, 26, 23],\n",
              "       [26, 23, 22],\n",
              "       [23, 22, 22],\n",
              "       [22, 22, 24],\n",
              "       [22, 24, 21],\n",
              "       [24, 21, 20],\n",
              "       [21, 20, 19],\n",
              "       [20, 19, 19],\n",
              "       [19, 19, 15],\n",
              "       [19, 15, 18],\n",
              "       [15, 18, 16],\n",
              "       [18, 16, 15],\n",
              "       [16, 15, 13],\n",
              "       [15, 13, 12],\n",
              "       [13, 12, 10],\n",
              "       [12, 10, 14],\n",
              "       [10, 14, 15],\n",
              "       [14, 15, 18],\n",
              "       [15, 18, 20],\n",
              "       [18, 20, 25],\n",
              "       [20, 25, 26],\n",
              "       [25, 26, 22],\n",
              "       [26, 22, 29],\n",
              "       [22, 29, 30],\n",
              "       [29, 30, 32],\n",
              "       [30, 32, 35],\n",
              "       [32, 35, 37],\n",
              "       [35, 37, 39],\n",
              "       [37, 39, 39],\n",
              "       [39, 39, 36],\n",
              "       [39, 36, 31],\n",
              "       [36, 31, 36],\n",
              "       [31, 36, 35],\n",
              "       [36, 35, 39],\n",
              "       [35, 39, 40],\n",
              "       [39, 40, 41],\n",
              "       [40, 41, 45],\n",
              "       [41, 45, 45],\n",
              "       [45, 45, 46],\n",
              "       [45, 46, 47],\n",
              "       [46, 47, 48],\n",
              "       [47, 48, 43],\n",
              "       [48, 43, 47],\n",
              "       [43, 47, 49],\n",
              "       [47, 49, 50],\n",
              "       [49, 50, 53],\n",
              "       [50, 53, 54],\n",
              "       [53, 54, 55],\n",
              "       [54, 55, 56],\n",
              "       [55, 56, 52],\n",
              "       [56, 52, 57],\n",
              "       [52, 57, 58],\n",
              "       [57, 58, 60],\n",
              "       [58, 60, 65],\n",
              "       [60, 65, 66],\n",
              "       [65, 66, 69],\n",
              "       [66, 69, 66],\n",
              "       [69, 66, 67],\n",
              "       [66, 67, 69],\n",
              "       [67, 69, 72],\n",
              "       [69, 72, 69],\n",
              "       [72, 69, 66],\n",
              "       [69, 66, 70],\n",
              "       [66, 70, 73],\n",
              "       [70, 73, 77],\n",
              "       [73, 77, 74],\n",
              "       [77, 74, 79],\n",
              "       [74, 79, 81],\n",
              "       [79, 81, 83],\n",
              "       [81, 83, 82],\n",
              "       [83, 82, 84],\n",
              "       [82, 84, 86],\n",
              "       [84, 86, 88],\n",
              "       [86, 88, 76],\n",
              "       [88, 76, 75],\n",
              "       [76, 75, 77],\n",
              "       [75, 77, 80],\n",
              "       [77, 80, 84],\n",
              "       [80, 84, 79],\n",
              "       [84, 79, 76],\n",
              "       [79, 76, 74],\n",
              "       [76, 74, 72],\n",
              "       [74, 72, 69],\n",
              "       [72, 69, 66],\n",
              "       [69, 66, 63],\n",
              "       [66, 63, 69],\n",
              "       [63, 69, 67],\n",
              "       [69, 67, 66],\n",
              "       [67, 66, 65],\n",
              "       [66, 65, 62],\n",
              "       [65, 62, 63],\n",
              "       [62, 63, 60],\n",
              "       [63, 60, 66],\n",
              "       [60, 66, 60],\n",
              "       [66, 60, 59],\n",
              "       [60, 59, 57],\n",
              "       [59, 57, 54],\n",
              "       [57, 54, 52],\n",
              "       [54, 52, 56],\n",
              "       [52, 56, 54],\n",
              "       [56, 54, 52],\n",
              "       [54, 52, 51],\n",
              "       [52, 51, 49],\n",
              "       [51, 49, 49],\n",
              "       [49, 49, 51],\n",
              "       [49, 51, 43],\n",
              "       [51, 43, 44],\n",
              "       [43, 44, 40],\n",
              "       [44, 40, 38],\n",
              "       [40, 38, 33],\n",
              "       [38, 33, 32],\n",
              "       [33, 32, 36],\n",
              "       [32, 36, 37],\n",
              "       [36, 37, 34],\n",
              "       [37, 34, 32],\n",
              "       [34, 32, 30],\n",
              "       [32, 30, 29],\n",
              "       [30, 29, 25],\n",
              "       [29, 25, 24],\n",
              "       [25, 24, 22],\n",
              "       [24, 22, 21],\n",
              "       [22, 21, 18],\n",
              "       [21, 18, 17],\n",
              "       [18, 17, 16],\n",
              "       [17, 16, 19],\n",
              "       [16, 19, 23],\n",
              "       [19, 23, 21],\n",
              "       [23, 21, 16],\n",
              "       [21, 16, 15],\n",
              "       [16, 15, 14],\n",
              "       [15, 14, 14],\n",
              "       [14, 14, 14],\n",
              "       [14, 14, 13],\n",
              "       [14, 13, 10],\n",
              "       [13, 10,  9],\n",
              "       [10,  9,  8],\n",
              "       [ 9,  8,  6],\n",
              "       [ 8,  6,  7],\n",
              "       [ 6,  7,  5],\n",
              "       [ 7,  5,  8],\n",
              "       [ 5,  8,  4],\n",
              "       [ 8,  4,  3],\n",
              "       [ 4,  3,  1],\n",
              "       [ 3,  1,  8],\n",
              "       [ 1,  8, 12],\n",
              "       [ 8, 12, 13],\n",
              "       [12, 13, 15],\n",
              "       [13, 15, 16],\n",
              "       [15, 16, 19],\n",
              "       [16, 19, 23],\n",
              "       [19, 23, 26],\n",
              "       [23, 26, 29],\n",
              "       [26, 29, 34],\n",
              "       [29, 34, 36],\n",
              "       [34, 36, 38],\n",
              "       [36, 38, 39],\n",
              "       [38, 39, 35],\n",
              "       [39, 35, 34],\n",
              "       [35, 34, 30],\n",
              "       [34, 30, 35],\n",
              "       [30, 35, 39],\n",
              "       [35, 39, 39],\n",
              "       [39, 39, 40],\n",
              "       [39, 40, 43],\n",
              "       [40, 43, 46],\n",
              "       [43, 46, 42],\n",
              "       [46, 42, 45],\n",
              "       [42, 45, 47],\n",
              "       [45, 47, 49],\n",
              "       [47, 49, 45],\n",
              "       [49, 45, 47],\n",
              "       [45, 47, 49],\n",
              "       [47, 49, 50],\n",
              "       [49, 50, 55],\n",
              "       [50, 55, 57],\n",
              "       [55, 57, 58],\n",
              "       [57, 58, 59],\n",
              "       [58, 59, 60],\n",
              "       [59, 60, 65],\n",
              "       [60, 65, 61],\n",
              "       [65, 61, 63],\n",
              "       [61, 63, 67],\n",
              "       [63, 67, 69]])"
            ]
          },
          "metadata": {},
          "execution_count": 20
        }
      ]
    },
    {
      "cell_type": "code",
      "source": [
        "y"
      ],
      "metadata": {
        "colab": {
          "base_uri": "https://localhost:8080/"
        },
        "id": "8yAvHi9I9jfc",
        "outputId": "80197ffa-1437-4014-f203-283f21f8ccee"
      },
      "execution_count": 21,
      "outputs": [
        {
          "output_type": "execute_result",
          "data": {
            "text/plain": [
              "array([41, 41, 40, 45, 47, 50, 49, 48, 47, 40, 46, 45, 44, 41, 39, 36, 35,\n",
              "       35, 35, 33, 32, 33, 33, 32, 30, 29, 27, 27, 26, 25, 27, 29, 26, 23,\n",
              "       22, 22, 24, 21, 20, 19, 19, 15, 18, 16, 15, 13, 12, 10, 14, 15, 18,\n",
              "       20, 25, 26, 22, 29, 30, 32, 35, 37, 39, 39, 36, 31, 36, 35, 39, 40,\n",
              "       41, 45, 45, 46, 47, 48, 43, 47, 49, 50, 53, 54, 55, 56, 52, 57, 58,\n",
              "       60, 65, 66, 69, 66, 67, 69, 72, 69, 66, 70, 73, 77, 74, 79, 81, 83,\n",
              "       82, 84, 86, 88, 76, 75, 77, 80, 84, 79, 76, 74, 72, 69, 66, 63, 69,\n",
              "       67, 66, 65, 62, 63, 60, 66, 60, 59, 57, 54, 52, 56, 54, 52, 51, 49,\n",
              "       49, 51, 43, 44, 40, 38, 33, 32, 36, 37, 34, 32, 30, 29, 25, 24, 22,\n",
              "       21, 18, 17, 16, 19, 23, 21, 16, 15, 14, 14, 14, 13, 10,  9,  8,  6,\n",
              "        7,  5,  8,  4,  3,  1,  8, 12, 13, 15, 16, 19, 23, 26, 29, 34, 36,\n",
              "       38, 39, 35, 34, 30, 35, 39, 39, 40, 43, 46, 42, 45, 47, 49, 45, 47,\n",
              "       49, 50, 55, 57, 58, 59, 60, 65, 61, 63, 67, 69, 70])"
            ]
          },
          "metadata": {},
          "execution_count": 21
        }
      ]
    },
    {
      "cell_type": "code",
      "source": [
        "X_train, X_test, y_train, y_test = train_test_split(X, y, test_size=0.2)"
      ],
      "metadata": {
        "id": "iUPJnaGo9nVm"
      },
      "execution_count": 22,
      "outputs": []
    },
    {
      "cell_type": "code",
      "source": [
        "X_train.shape"
      ],
      "metadata": {
        "colab": {
          "base_uri": "https://localhost:8080/"
        },
        "id": "V6VAdJEC9pXG",
        "outputId": "cdf58051-c496-43fb-e330-c34fb49094de"
      },
      "execution_count": 23,
      "outputs": [
        {
          "output_type": "execute_result",
          "data": {
            "text/plain": [
              "(173, 3)"
            ]
          },
          "metadata": {},
          "execution_count": 23
        }
      ]
    },
    {
      "cell_type": "code",
      "source": [
        "y_train.shape"
      ],
      "metadata": {
        "colab": {
          "base_uri": "https://localhost:8080/"
        },
        "id": "rrBwEwGP-zOh",
        "outputId": "2da8a429-a8d5-4104-f4e3-af8518432ebb"
      },
      "execution_count": 24,
      "outputs": [
        {
          "output_type": "execute_result",
          "data": {
            "text/plain": [
              "(173,)"
            ]
          },
          "metadata": {},
          "execution_count": 24
        }
      ]
    },
    {
      "cell_type": "code",
      "source": [
        "X_test.shape"
      ],
      "metadata": {
        "colab": {
          "base_uri": "https://localhost:8080/"
        },
        "id": "gxRnSpEZ-nXh",
        "outputId": "f91f42f1-a2ad-4a44-d459-24ff859aecfb"
      },
      "execution_count": 25,
      "outputs": [
        {
          "output_type": "execute_result",
          "data": {
            "text/plain": [
              "(44, 3)"
            ]
          },
          "metadata": {},
          "execution_count": 25
        }
      ]
    },
    {
      "cell_type": "code",
      "source": [
        "y_test.shape"
      ],
      "metadata": {
        "colab": {
          "base_uri": "https://localhost:8080/"
        },
        "id": "EIN-XZfO-3IB",
        "outputId": "ace0a70c-8133-4028-fc7a-695e36e4ccd1"
      },
      "execution_count": 26,
      "outputs": [
        {
          "output_type": "execute_result",
          "data": {
            "text/plain": [
              "(44,)"
            ]
          },
          "metadata": {},
          "execution_count": 26
        }
      ]
    },
    {
      "cell_type": "code",
      "source": [
        "from keras.layers import *\n",
        "from keras.models import Sequential"
      ],
      "metadata": {
        "id": "-iEl05pN64Gz"
      },
      "execution_count": 27,
      "outputs": []
    },
    {
      "cell_type": "code",
      "source": [
        "n_features=1"
      ],
      "metadata": {
        "id": "r390Htr26-nU"
      },
      "execution_count": 28,
      "outputs": []
    },
    {
      "cell_type": "markdown",
      "source": [
        "**Vanilla LSTM**"
      ],
      "metadata": {
        "id": "uwKTwpO31k3P"
      }
    },
    {
      "cell_type": "code",
      "source": [
        "# define model\n",
        "model = Sequential()\n",
        "model.add(LSTM(50, activation='relu', input_shape=(n_steps, n_features))) \n",
        "model.add(Dense(1))\n",
        "model.compile(optimizer='adam', loss='mse')"
      ],
      "metadata": {
        "colab": {
          "base_uri": "https://localhost:8080/"
        },
        "id": "UJxGoKLQ7BP4",
        "outputId": "fa3e9a0b-0ebf-4136-e03d-2a8a0f837116"
      },
      "execution_count": 29,
      "outputs": [
        {
          "output_type": "stream",
          "name": "stdout",
          "text": [
            "WARNING:tensorflow:Layer lstm will not use cuDNN kernels since it doesn't meet the criteria. It will use a generic GPU kernel as fallback when running on GPU.\n"
          ]
        }
      ]
    },
    {
      "cell_type": "code",
      "source": [
        "...\n",
        "# reshape from [samples, timesteps] into [samples, timesteps, features]\n",
        "n_features = 1\n",
        "X_train = X_train.reshape((X_train.shape[0], X_train.shape[1], n_features)) "
      ],
      "metadata": {
        "id": "AuQK4QL-7Da1"
      },
      "execution_count": 30,
      "outputs": []
    },
    {
      "cell_type": "markdown",
      "source": [
        "**Training**"
      ],
      "metadata": {
        "id": "h9ZcVqGm1ph5"
      }
    },
    {
      "cell_type": "code",
      "source": [
        "# fit model\n",
        "model.fit(X_train, y_train, epochs=200, verbose=1)"
      ],
      "metadata": {
        "colab": {
          "base_uri": "https://localhost:8080/"
        },
        "id": "n7SrlsNv7VGo",
        "outputId": "eedbe6d8-875a-436d-9f1e-fdd3a5b3318c"
      },
      "execution_count": 31,
      "outputs": [
        {
          "output_type": "stream",
          "name": "stdout",
          "text": [
            "Epoch 1/200\n",
            "6/6 [==============================] - 4s 11ms/step - loss: 1834.2045\n",
            "Epoch 2/200\n",
            "6/6 [==============================] - 0s 7ms/step - loss: 1550.7203\n",
            "Epoch 3/200\n",
            "6/6 [==============================] - 0s 8ms/step - loss: 1256.8719\n",
            "Epoch 4/200\n",
            "6/6 [==============================] - 0s 7ms/step - loss: 948.2464\n",
            "Epoch 5/200\n",
            "6/6 [==============================] - 0s 9ms/step - loss: 584.0950\n",
            "Epoch 6/200\n",
            "6/6 [==============================] - 0s 7ms/step - loss: 172.5813\n",
            "Epoch 7/200\n",
            "6/6 [==============================] - 0s 9ms/step - loss: 60.7674\n",
            "Epoch 8/200\n",
            "6/6 [==============================] - 0s 8ms/step - loss: 70.4012\n",
            "Epoch 9/200\n",
            "6/6 [==============================] - 0s 7ms/step - loss: 25.3809\n",
            "Epoch 10/200\n",
            "6/6 [==============================] - 0s 8ms/step - loss: 26.8174\n",
            "Epoch 11/200\n",
            "6/6 [==============================] - 0s 8ms/step - loss: 26.6084\n",
            "Epoch 12/200\n",
            "6/6 [==============================] - 0s 8ms/step - loss: 22.5900\n",
            "Epoch 13/200\n",
            "6/6 [==============================] - 0s 8ms/step - loss: 21.3518\n",
            "Epoch 14/200\n",
            "6/6 [==============================] - 0s 7ms/step - loss: 21.3990\n",
            "Epoch 15/200\n",
            "6/6 [==============================] - 0s 9ms/step - loss: 20.7080\n",
            "Epoch 16/200\n",
            "6/6 [==============================] - 0s 7ms/step - loss: 19.7794\n",
            "Epoch 17/200\n",
            "6/6 [==============================] - 0s 8ms/step - loss: 19.2958\n",
            "Epoch 18/200\n",
            "6/6 [==============================] - 0s 8ms/step - loss: 18.9871\n",
            "Epoch 19/200\n",
            "6/6 [==============================] - 0s 8ms/step - loss: 18.9299\n",
            "Epoch 20/200\n",
            "6/6 [==============================] - 0s 8ms/step - loss: 18.5814\n",
            "Epoch 21/200\n",
            "6/6 [==============================] - 0s 8ms/step - loss: 18.3304\n",
            "Epoch 22/200\n",
            "6/6 [==============================] - 0s 8ms/step - loss: 18.1867\n",
            "Epoch 23/200\n",
            "6/6 [==============================] - 0s 7ms/step - loss: 18.0565\n",
            "Epoch 24/200\n",
            "6/6 [==============================] - 0s 8ms/step - loss: 17.8803\n",
            "Epoch 25/200\n",
            "6/6 [==============================] - 0s 8ms/step - loss: 17.7793\n",
            "Epoch 26/200\n",
            "6/6 [==============================] - 0s 8ms/step - loss: 17.6044\n",
            "Epoch 27/200\n",
            "6/6 [==============================] - 0s 8ms/step - loss: 17.5127\n",
            "Epoch 28/200\n",
            "6/6 [==============================] - 0s 8ms/step - loss: 17.3844\n",
            "Epoch 29/200\n",
            "6/6 [==============================] - 0s 8ms/step - loss: 17.2510\n",
            "Epoch 30/200\n",
            "6/6 [==============================] - 0s 9ms/step - loss: 17.2871\n",
            "Epoch 31/200\n",
            "6/6 [==============================] - 0s 8ms/step - loss: 16.9802\n",
            "Epoch 32/200\n",
            "6/6 [==============================] - 0s 8ms/step - loss: 17.0456\n",
            "Epoch 33/200\n",
            "6/6 [==============================] - 0s 8ms/step - loss: 16.8625\n",
            "Epoch 34/200\n",
            "6/6 [==============================] - 0s 8ms/step - loss: 16.8405\n",
            "Epoch 35/200\n",
            "6/6 [==============================] - 0s 8ms/step - loss: 16.6246\n",
            "Epoch 36/200\n",
            "6/6 [==============================] - 0s 9ms/step - loss: 16.4692\n",
            "Epoch 37/200\n",
            "6/6 [==============================] - 0s 8ms/step - loss: 16.4522\n",
            "Epoch 38/200\n",
            "6/6 [==============================] - 0s 8ms/step - loss: 16.2717\n",
            "Epoch 39/200\n",
            "6/6 [==============================] - 0s 8ms/step - loss: 16.1575\n",
            "Epoch 40/200\n",
            "6/6 [==============================] - 0s 8ms/step - loss: 15.8981\n",
            "Epoch 41/200\n",
            "6/6 [==============================] - 0s 9ms/step - loss: 15.7428\n",
            "Epoch 42/200\n",
            "6/6 [==============================] - 0s 7ms/step - loss: 15.6675\n",
            "Epoch 43/200\n",
            "6/6 [==============================] - 0s 8ms/step - loss: 15.3888\n",
            "Epoch 44/200\n",
            "6/6 [==============================] - 0s 10ms/step - loss: 15.0817\n",
            "Epoch 45/200\n",
            "6/6 [==============================] - 0s 7ms/step - loss: 14.2585\n",
            "Epoch 46/200\n",
            "6/6 [==============================] - 0s 7ms/step - loss: 13.1597\n",
            "Epoch 47/200\n",
            "6/6 [==============================] - 0s 8ms/step - loss: 12.3304\n",
            "Epoch 48/200\n",
            "6/6 [==============================] - 0s 8ms/step - loss: 11.9837\n",
            "Epoch 49/200\n",
            "6/6 [==============================] - 0s 8ms/step - loss: 11.7057\n",
            "Epoch 50/200\n",
            "6/6 [==============================] - 0s 9ms/step - loss: 12.7365\n",
            "Epoch 51/200\n",
            "6/6 [==============================] - 0s 8ms/step - loss: 11.5859\n",
            "Epoch 52/200\n",
            "6/6 [==============================] - 0s 9ms/step - loss: 11.2502\n",
            "Epoch 53/200\n",
            "6/6 [==============================] - 0s 9ms/step - loss: 12.0373\n",
            "Epoch 54/200\n",
            "6/6 [==============================] - 0s 11ms/step - loss: 12.0771\n",
            "Epoch 55/200\n",
            "6/6 [==============================] - 0s 9ms/step - loss: 11.5167\n",
            "Epoch 56/200\n",
            "6/6 [==============================] - 0s 8ms/step - loss: 11.4124\n",
            "Epoch 57/200\n",
            "6/6 [==============================] - 0s 8ms/step - loss: 10.5396\n",
            "Epoch 58/200\n",
            "6/6 [==============================] - 0s 9ms/step - loss: 11.4916\n",
            "Epoch 59/200\n",
            "6/6 [==============================] - 0s 7ms/step - loss: 10.5218\n",
            "Epoch 60/200\n",
            "6/6 [==============================] - 0s 8ms/step - loss: 10.5016\n",
            "Epoch 61/200\n",
            "6/6 [==============================] - 0s 7ms/step - loss: 10.4759\n",
            "Epoch 62/200\n",
            "6/6 [==============================] - 0s 8ms/step - loss: 9.9156\n",
            "Epoch 63/200\n",
            "6/6 [==============================] - 0s 8ms/step - loss: 9.8688\n",
            "Epoch 64/200\n",
            "6/6 [==============================] - 0s 7ms/step - loss: 9.6806\n",
            "Epoch 65/200\n",
            "6/6 [==============================] - 0s 7ms/step - loss: 9.5116\n",
            "Epoch 66/200\n",
            "6/6 [==============================] - 0s 8ms/step - loss: 9.3476\n",
            "Epoch 67/200\n",
            "6/6 [==============================] - 0s 9ms/step - loss: 9.3367\n",
            "Epoch 68/200\n",
            "6/6 [==============================] - 0s 8ms/step - loss: 9.3679\n",
            "Epoch 69/200\n",
            "6/6 [==============================] - 0s 7ms/step - loss: 9.0655\n",
            "Epoch 70/200\n",
            "6/6 [==============================] - 0s 7ms/step - loss: 9.3269\n",
            "Epoch 71/200\n",
            "6/6 [==============================] - 0s 7ms/step - loss: 9.2239\n",
            "Epoch 72/200\n",
            "6/6 [==============================] - 0s 8ms/step - loss: 9.3376\n",
            "Epoch 73/200\n",
            "6/6 [==============================] - 0s 8ms/step - loss: 9.2096\n",
            "Epoch 74/200\n",
            "6/6 [==============================] - 0s 10ms/step - loss: 8.8904\n",
            "Epoch 75/200\n",
            "6/6 [==============================] - 0s 8ms/step - loss: 8.9315\n",
            "Epoch 76/200\n",
            "6/6 [==============================] - 0s 9ms/step - loss: 8.8203\n",
            "Epoch 77/200\n",
            "6/6 [==============================] - 0s 9ms/step - loss: 8.8569\n",
            "Epoch 78/200\n",
            "6/6 [==============================] - 0s 8ms/step - loss: 8.7019\n",
            "Epoch 79/200\n",
            "6/6 [==============================] - 0s 8ms/step - loss: 8.6355\n",
            "Epoch 80/200\n",
            "6/6 [==============================] - 0s 8ms/step - loss: 9.1102\n",
            "Epoch 81/200\n",
            "6/6 [==============================] - 0s 8ms/step - loss: 9.3829\n",
            "Epoch 82/200\n",
            "6/6 [==============================] - 0s 7ms/step - loss: 9.1084\n",
            "Epoch 83/200\n",
            "6/6 [==============================] - 0s 8ms/step - loss: 8.9366\n",
            "Epoch 84/200\n",
            "6/6 [==============================] - 0s 8ms/step - loss: 8.5335\n",
            "Epoch 85/200\n",
            "6/6 [==============================] - 0s 8ms/step - loss: 9.2239\n",
            "Epoch 86/200\n",
            "6/6 [==============================] - 0s 8ms/step - loss: 8.9237\n",
            "Epoch 87/200\n",
            "6/6 [==============================] - 0s 7ms/step - loss: 8.4678\n",
            "Epoch 88/200\n",
            "6/6 [==============================] - 0s 8ms/step - loss: 8.3784\n",
            "Epoch 89/200\n",
            "6/6 [==============================] - 0s 8ms/step - loss: 8.4486\n",
            "Epoch 90/200\n",
            "6/6 [==============================] - 0s 8ms/step - loss: 8.4499\n",
            "Epoch 91/200\n",
            "6/6 [==============================] - 0s 9ms/step - loss: 8.1659\n",
            "Epoch 92/200\n",
            "6/6 [==============================] - 0s 9ms/step - loss: 8.5222\n",
            "Epoch 93/200\n",
            "6/6 [==============================] - 0s 9ms/step - loss: 8.8346\n",
            "Epoch 94/200\n",
            "6/6 [==============================] - 0s 9ms/step - loss: 8.2019\n",
            "Epoch 95/200\n",
            "6/6 [==============================] - 0s 7ms/step - loss: 8.4124\n",
            "Epoch 96/200\n",
            "6/6 [==============================] - 0s 7ms/step - loss: 8.4919\n",
            "Epoch 97/200\n",
            "6/6 [==============================] - 0s 8ms/step - loss: 8.2785\n",
            "Epoch 98/200\n",
            "6/6 [==============================] - 0s 7ms/step - loss: 8.0704\n",
            "Epoch 99/200\n",
            "6/6 [==============================] - 0s 8ms/step - loss: 8.1505\n",
            "Epoch 100/200\n",
            "6/6 [==============================] - 0s 8ms/step - loss: 8.4815\n",
            "Epoch 101/200\n",
            "6/6 [==============================] - 0s 7ms/step - loss: 8.8417\n",
            "Epoch 102/200\n",
            "6/6 [==============================] - 0s 9ms/step - loss: 8.3479\n",
            "Epoch 103/200\n",
            "6/6 [==============================] - 0s 9ms/step - loss: 8.3724\n",
            "Epoch 104/200\n",
            "6/6 [==============================] - 0s 8ms/step - loss: 8.3603\n",
            "Epoch 105/200\n",
            "6/6 [==============================] - 0s 8ms/step - loss: 8.2068\n",
            "Epoch 106/200\n",
            "6/6 [==============================] - 0s 8ms/step - loss: 8.2242\n",
            "Epoch 107/200\n",
            "6/6 [==============================] - 0s 10ms/step - loss: 8.0001\n",
            "Epoch 108/200\n",
            "6/6 [==============================] - 0s 8ms/step - loss: 8.0663\n",
            "Epoch 109/200\n",
            "6/6 [==============================] - 0s 8ms/step - loss: 8.2284\n",
            "Epoch 110/200\n",
            "6/6 [==============================] - 0s 8ms/step - loss: 8.6654\n",
            "Epoch 111/200\n",
            "6/6 [==============================] - 0s 11ms/step - loss: 8.1935\n",
            "Epoch 112/200\n",
            "6/6 [==============================] - 0s 8ms/step - loss: 8.0248\n",
            "Epoch 113/200\n",
            "6/6 [==============================] - 0s 9ms/step - loss: 8.1056\n",
            "Epoch 114/200\n",
            "6/6 [==============================] - 0s 8ms/step - loss: 8.1191\n",
            "Epoch 115/200\n",
            "6/6 [==============================] - 0s 7ms/step - loss: 8.0487\n",
            "Epoch 116/200\n",
            "6/6 [==============================] - 0s 8ms/step - loss: 7.9023\n",
            "Epoch 117/200\n",
            "6/6 [==============================] - 0s 8ms/step - loss: 7.9506\n",
            "Epoch 118/200\n",
            "6/6 [==============================] - 0s 8ms/step - loss: 7.9582\n",
            "Epoch 119/200\n",
            "6/6 [==============================] - 0s 7ms/step - loss: 7.9639\n",
            "Epoch 120/200\n",
            "6/6 [==============================] - 0s 8ms/step - loss: 7.9837\n",
            "Epoch 121/200\n",
            "6/6 [==============================] - 0s 9ms/step - loss: 8.0757\n",
            "Epoch 122/200\n",
            "6/6 [==============================] - 0s 8ms/step - loss: 7.9173\n",
            "Epoch 123/200\n",
            "6/6 [==============================] - 0s 8ms/step - loss: 8.0497\n",
            "Epoch 124/200\n",
            "6/6 [==============================] - 0s 8ms/step - loss: 7.8044\n",
            "Epoch 125/200\n",
            "6/6 [==============================] - 0s 9ms/step - loss: 7.9935\n",
            "Epoch 126/200\n",
            "6/6 [==============================] - 0s 8ms/step - loss: 7.9034\n",
            "Epoch 127/200\n",
            "6/6 [==============================] - 0s 8ms/step - loss: 8.0226\n",
            "Epoch 128/200\n",
            "6/6 [==============================] - 0s 11ms/step - loss: 7.9775\n",
            "Epoch 129/200\n",
            "6/6 [==============================] - 0s 8ms/step - loss: 7.7815\n",
            "Epoch 130/200\n",
            "6/6 [==============================] - 0s 8ms/step - loss: 7.9915\n",
            "Epoch 131/200\n",
            "6/6 [==============================] - 0s 8ms/step - loss: 7.8695\n",
            "Epoch 132/200\n",
            "6/6 [==============================] - 0s 8ms/step - loss: 7.8637\n",
            "Epoch 133/200\n",
            "6/6 [==============================] - 0s 12ms/step - loss: 7.8759\n",
            "Epoch 134/200\n",
            "6/6 [==============================] - 0s 9ms/step - loss: 7.9226\n",
            "Epoch 135/200\n",
            "6/6 [==============================] - 0s 9ms/step - loss: 8.1376\n",
            "Epoch 136/200\n",
            "6/6 [==============================] - 0s 8ms/step - loss: 8.0821\n",
            "Epoch 137/200\n",
            "6/6 [==============================] - 0s 8ms/step - loss: 7.8107\n",
            "Epoch 138/200\n",
            "6/6 [==============================] - 0s 7ms/step - loss: 7.9265\n",
            "Epoch 139/200\n",
            "6/6 [==============================] - 0s 9ms/step - loss: 8.0461\n",
            "Epoch 140/200\n",
            "6/6 [==============================] - 0s 9ms/step - loss: 8.0650\n",
            "Epoch 141/200\n",
            "6/6 [==============================] - 0s 7ms/step - loss: 7.7242\n",
            "Epoch 142/200\n",
            "6/6 [==============================] - 0s 8ms/step - loss: 7.9838\n",
            "Epoch 143/200\n",
            "6/6 [==============================] - 0s 8ms/step - loss: 8.0909\n",
            "Epoch 144/200\n",
            "6/6 [==============================] - 0s 8ms/step - loss: 7.7566\n",
            "Epoch 145/200\n",
            "6/6 [==============================] - 0s 10ms/step - loss: 8.3432\n",
            "Epoch 146/200\n",
            "6/6 [==============================] - 0s 8ms/step - loss: 7.8572\n",
            "Epoch 147/200\n",
            "6/6 [==============================] - 0s 9ms/step - loss: 8.6349\n",
            "Epoch 148/200\n",
            "6/6 [==============================] - 0s 8ms/step - loss: 7.9476\n",
            "Epoch 149/200\n",
            "6/6 [==============================] - 0s 8ms/step - loss: 7.8830\n",
            "Epoch 150/200\n",
            "6/6 [==============================] - 0s 8ms/step - loss: 7.9256\n",
            "Epoch 151/200\n",
            "6/6 [==============================] - 0s 7ms/step - loss: 7.8157\n",
            "Epoch 152/200\n",
            "6/6 [==============================] - 0s 8ms/step - loss: 7.8043\n",
            "Epoch 153/200\n",
            "6/6 [==============================] - 0s 7ms/step - loss: 7.8885\n",
            "Epoch 154/200\n",
            "6/6 [==============================] - 0s 7ms/step - loss: 7.7358\n",
            "Epoch 155/200\n",
            "6/6 [==============================] - 0s 8ms/step - loss: 7.8411\n",
            "Epoch 156/200\n",
            "6/6 [==============================] - 0s 8ms/step - loss: 7.8278\n",
            "Epoch 157/200\n",
            "6/6 [==============================] - 0s 8ms/step - loss: 7.7884\n",
            "Epoch 158/200\n",
            "6/6 [==============================] - 0s 9ms/step - loss: 7.8762\n",
            "Epoch 159/200\n",
            "6/6 [==============================] - 0s 9ms/step - loss: 8.0969\n",
            "Epoch 160/200\n",
            "6/6 [==============================] - 0s 9ms/step - loss: 7.6906\n",
            "Epoch 161/200\n",
            "6/6 [==============================] - 0s 8ms/step - loss: 7.9100\n",
            "Epoch 162/200\n",
            "6/6 [==============================] - 0s 12ms/step - loss: 7.8539\n",
            "Epoch 163/200\n",
            "6/6 [==============================] - 0s 8ms/step - loss: 7.8402\n",
            "Epoch 164/200\n",
            "6/6 [==============================] - 0s 8ms/step - loss: 7.6961\n",
            "Epoch 165/200\n",
            "6/6 [==============================] - 0s 8ms/step - loss: 7.8289\n",
            "Epoch 166/200\n",
            "6/6 [==============================] - 0s 8ms/step - loss: 7.6672\n",
            "Epoch 167/200\n",
            "6/6 [==============================] - 0s 8ms/step - loss: 7.9805\n",
            "Epoch 168/200\n",
            "6/6 [==============================] - 0s 8ms/step - loss: 7.6508\n",
            "Epoch 169/200\n",
            "6/6 [==============================] - 0s 7ms/step - loss: 7.7420\n",
            "Epoch 170/200\n",
            "6/6 [==============================] - 0s 8ms/step - loss: 7.6752\n",
            "Epoch 171/200\n",
            "6/6 [==============================] - 0s 7ms/step - loss: 8.0117\n",
            "Epoch 172/200\n",
            "6/6 [==============================] - 0s 8ms/step - loss: 8.3919\n",
            "Epoch 173/200\n",
            "6/6 [==============================] - 0s 7ms/step - loss: 7.7436\n",
            "Epoch 174/200\n",
            "6/6 [==============================] - 0s 8ms/step - loss: 7.6758\n",
            "Epoch 175/200\n",
            "6/6 [==============================] - 0s 9ms/step - loss: 7.8042\n",
            "Epoch 176/200\n",
            "6/6 [==============================] - 0s 8ms/step - loss: 7.6950\n",
            "Epoch 177/200\n",
            "6/6 [==============================] - 0s 8ms/step - loss: 7.9055\n",
            "Epoch 178/200\n",
            "6/6 [==============================] - 0s 8ms/step - loss: 8.1540\n",
            "Epoch 179/200\n",
            "6/6 [==============================] - 0s 8ms/step - loss: 7.7747\n",
            "Epoch 180/200\n",
            "6/6 [==============================] - 0s 8ms/step - loss: 7.7811\n",
            "Epoch 181/200\n",
            "6/6 [==============================] - 0s 8ms/step - loss: 7.7329\n",
            "Epoch 182/200\n",
            "6/6 [==============================] - 0s 8ms/step - loss: 7.9291\n",
            "Epoch 183/200\n",
            "6/6 [==============================] - 0s 8ms/step - loss: 7.7436\n",
            "Epoch 184/200\n",
            "6/6 [==============================] - 0s 8ms/step - loss: 7.7388\n",
            "Epoch 185/200\n",
            "6/6 [==============================] - 0s 8ms/step - loss: 7.8059\n",
            "Epoch 186/200\n",
            "6/6 [==============================] - 0s 8ms/step - loss: 7.8160\n",
            "Epoch 187/200\n",
            "6/6 [==============================] - 0s 8ms/step - loss: 7.8889\n",
            "Epoch 188/200\n",
            "6/6 [==============================] - 0s 8ms/step - loss: 7.7536\n",
            "Epoch 189/200\n",
            "6/6 [==============================] - 0s 7ms/step - loss: 7.6452\n",
            "Epoch 190/200\n",
            "6/6 [==============================] - 0s 8ms/step - loss: 7.8741\n",
            "Epoch 191/200\n",
            "6/6 [==============================] - 0s 8ms/step - loss: 7.6383\n",
            "Epoch 192/200\n",
            "6/6 [==============================] - 0s 8ms/step - loss: 7.7104\n",
            "Epoch 193/200\n",
            "6/6 [==============================] - 0s 8ms/step - loss: 7.8500\n",
            "Epoch 194/200\n",
            "6/6 [==============================] - 0s 8ms/step - loss: 7.6435\n",
            "Epoch 195/200\n",
            "6/6 [==============================] - 0s 9ms/step - loss: 7.6645\n",
            "Epoch 196/200\n",
            "6/6 [==============================] - 0s 8ms/step - loss: 7.6650\n",
            "Epoch 197/200\n",
            "6/6 [==============================] - 0s 9ms/step - loss: 7.7948\n",
            "Epoch 198/200\n",
            "6/6 [==============================] - 0s 8ms/step - loss: 7.6224\n",
            "Epoch 199/200\n",
            "6/6 [==============================] - 0s 8ms/step - loss: 7.5291\n",
            "Epoch 200/200\n",
            "6/6 [==============================] - 0s 8ms/step - loss: 8.0181\n"
          ]
        },
        {
          "output_type": "execute_result",
          "data": {
            "text/plain": [
              "<keras.callbacks.History at 0x7f3f7928d190>"
            ]
          },
          "metadata": {},
          "execution_count": 31
        }
      ]
    },
    {
      "cell_type": "markdown",
      "source": [
        "**Testing Phase**"
      ],
      "metadata": {
        "id": "27DQ6W7V1w3h"
      }
    },
    {
      "cell_type": "code",
      "source": [
        "for i in range(len(X_test)): \n",
        "  x_input = array(X_test[i])\n",
        "  x_input = x_input.reshape((1, n_steps, n_features))\n",
        "  yhat = model.predict(x_input, verbose=0)\n",
        "  print(yhat)"
      ],
      "metadata": {
        "id": "7S3YyHWSEJes",
        "colab": {
          "base_uri": "https://localhost:8080/"
        },
        "outputId": "8610a69c-5297-49b8-ed17-bf6cf1361f21"
      },
      "execution_count": 32,
      "outputs": [
        {
          "output_type": "stream",
          "name": "stdout",
          "text": [
            "[[46.901413]]\n",
            "[[32.12936]]\n",
            "[[47.278114]]\n",
            "[[49.211876]]\n",
            "[[49.736393]]\n",
            "[[16.073912]]\n",
            "[[43.544052]]\n",
            "[[68.79277]]\n",
            "[[20.30838]]\n",
            "[[34.719627]]\n",
            "[[68.027115]]\n",
            "[[13.911492]]\n",
            "[[50.78794]]\n",
            "[[69.825966]]\n",
            "[[24.304708]]\n",
            "[[79.6526]]\n",
            "[[52.452724]]\n",
            "[[35.74055]]\n",
            "[[79.248245]]\n",
            "[[60.570396]]\n",
            "[[72.36464]]\n",
            "[[19.5539]]\n",
            "[[54.888798]]\n",
            "[[19.271557]]\n",
            "[[66.95633]]\n",
            "[[26.392715]]\n",
            "[[22.477842]]\n",
            "[[68.594025]]\n",
            "[[39.41577]]\n",
            "[[15.298414]]\n",
            "[[56.634686]]\n",
            "[[31.310217]]\n",
            "[[35.10095]]\n",
            "[[28.463087]]\n",
            "[[51.32621]]\n",
            "[[43.62405]]\n",
            "[[39.013462]]\n",
            "[[62.782627]]\n",
            "[[58.04585]]\n",
            "[[26.422834]]\n",
            "[[9.3272]]\n",
            "[[69.27131]]\n",
            "[[8.004673]]\n",
            "[[21.265783]]\n"
          ]
        }
      ]
    },
    {
      "cell_type": "code",
      "source": [
        "l=[]\n",
        "for i in range(len(X_test)): \n",
        "  x_input = array(X_test[i])\n",
        "  x_input = x_input.reshape((1, n_steps, n_features))\n",
        "  yhat = model.predict(x_input, verbose=0)\n",
        "  yhat.reshape(1)\n",
        "  l.append(yhat)\n",
        "\n",
        "\n",
        "  "
      ],
      "metadata": {
        "id": "ExaN_mIh_z82"
      },
      "execution_count": 33,
      "outputs": []
    },
    {
      "cell_type": "code",
      "source": [
        "tej = [arr.tolist() for arr in l]"
      ],
      "metadata": {
        "id": "xGFaE2UKwY4e"
      },
      "execution_count": 34,
      "outputs": []
    },
    {
      "cell_type": "code",
      "source": [
        "flatList = [ item for elem in tej for item in elem]\n",
        "print('Flat List : ', flatList)        "
      ],
      "metadata": {
        "colab": {
          "base_uri": "https://localhost:8080/"
        },
        "id": "j6zI11BZx4DT",
        "outputId": "0e7f113e-ae9d-44cf-9120-5a32e5fadafa"
      },
      "execution_count": 35,
      "outputs": [
        {
          "output_type": "stream",
          "name": "stdout",
          "text": [
            "Flat List :  [[46.90141296386719], [32.12936019897461], [47.278114318847656], [49.211875915527344], [49.736392974853516], [16.073911666870117], [43.54405212402344], [68.79277038574219], [20.308380126953125], [34.719627380371094], [68.02711486816406], [13.911492347717285], [50.787940979003906], [69.82596588134766], [24.30470848083496], [79.65260314941406], [52.45272445678711], [35.74055099487305], [79.24824523925781], [60.570396423339844], [72.36463928222656], [19.55389976501465], [54.888797760009766], [19.271556854248047], [66.95632934570312], [26.392715454101562], [22.477842330932617], [68.59402465820312], [39.415771484375], [15.29841423034668], [56.63468551635742], [31.310216903686523], [35.100948333740234], [28.46308708190918], [51.326210021972656], [43.62405014038086], [39.01346206665039], [62.78262710571289], [58.04584884643555], [26.422834396362305], [9.327199935913086], [69.27130889892578], [8.00467300415039], [21.265783309936523]]\n"
          ]
        }
      ]
    },
    {
      "cell_type": "code",
      "source": [
        "flat = [ item for elem in flatList for item in elem]\n",
        "print('Flat List : ', flat)  "
      ],
      "metadata": {
        "colab": {
          "base_uri": "https://localhost:8080/"
        },
        "id": "vPTA9P_gyb4D",
        "outputId": "4f2fdd59-62f8-4eec-f64e-2f6031577f93"
      },
      "execution_count": 36,
      "outputs": [
        {
          "output_type": "stream",
          "name": "stdout",
          "text": [
            "Flat List :  [46.90141296386719, 32.12936019897461, 47.278114318847656, 49.211875915527344, 49.736392974853516, 16.073911666870117, 43.54405212402344, 68.79277038574219, 20.308380126953125, 34.719627380371094, 68.02711486816406, 13.911492347717285, 50.787940979003906, 69.82596588134766, 24.30470848083496, 79.65260314941406, 52.45272445678711, 35.74055099487305, 79.24824523925781, 60.570396423339844, 72.36463928222656, 19.55389976501465, 54.888797760009766, 19.271556854248047, 66.95632934570312, 26.392715454101562, 22.477842330932617, 68.59402465820312, 39.415771484375, 15.29841423034668, 56.63468551635742, 31.310216903686523, 35.100948333740234, 28.46308708190918, 51.326210021972656, 43.62405014038086, 39.01346206665039, 62.78262710571289, 58.04584884643555, 26.422834396362305, 9.327199935913086, 69.27130889892578, 8.00467300415039, 21.265783309936523]\n"
          ]
        }
      ]
    },
    {
      "cell_type": "code",
      "source": [
        "my_array = np.asarray(flat)"
      ],
      "metadata": {
        "id": "DkYV-HiovhGK"
      },
      "execution_count": 37,
      "outputs": []
    },
    {
      "cell_type": "code",
      "source": [
        "my_array"
      ],
      "metadata": {
        "id": "lRmATXC4zCiP",
        "colab": {
          "base_uri": "https://localhost:8080/"
        },
        "outputId": "0969fec3-53f5-4a0d-f225-f7580227e87a"
      },
      "execution_count": 38,
      "outputs": [
        {
          "output_type": "execute_result",
          "data": {
            "text/plain": [
              "array([46.90141296, 32.1293602 , 47.27811432, 49.21187592, 49.73639297,\n",
              "       16.07391167, 43.54405212, 68.79277039, 20.30838013, 34.71962738,\n",
              "       68.02711487, 13.91149235, 50.78794098, 69.82596588, 24.30470848,\n",
              "       79.65260315, 52.45272446, 35.74055099, 79.24824524, 60.57039642,\n",
              "       72.36463928, 19.55389977, 54.88879776, 19.27155685, 66.95632935,\n",
              "       26.39271545, 22.47784233, 68.59402466, 39.41577148, 15.29841423,\n",
              "       56.63468552, 31.3102169 , 35.10094833, 28.46308708, 51.32621002,\n",
              "       43.62405014, 39.01346207, 62.78262711, 58.04584885, 26.4228344 ,\n",
              "        9.32719994, 69.2713089 ,  8.004673  , 21.26578331])"
            ]
          },
          "metadata": {},
          "execution_count": 38
        }
      ]
    },
    {
      "cell_type": "code",
      "source": [
        "import numpy as np\n",
        "import matplotlib.pyplot as plt\n",
        "\n",
        "plt.rcParams[\"figure.figsize\"] = [7.50, 3.50]\n",
        "plt.rcParams[\"figure.autolayout\"] = True\n",
        "\n",
        "\n",
        "\n",
        "plt.title(\"Actual Values of oxygen\")\n",
        "plt.plot(y_test, color=\"red\")\n",
        "plt.xlabel('Number of datapoints', fontsize=14)\n",
        "plt.ylabel('Actual values of oxygen', fontsize=14)\n",
        "plt.savefig(\"actualoxygen.png\")\n",
        "plt.show()"
      ],
      "metadata": {
        "colab": {
          "base_uri": "https://localhost:8080/",
          "height": 261
        },
        "id": "Q3K-rno3zzC_",
        "outputId": "78d6b29f-432f-4fe5-bc83-46dbae9c2d5a"
      },
      "execution_count": 39,
      "outputs": [
        {
          "output_type": "display_data",
          "data": {
            "text/plain": [
              "<Figure size 540x252 with 1 Axes>"
            ],
            "image/png": "[encoded data removed]"
          },
          "metadata": {
            "needs_background": "light"
          }
        }
      ]
    },
    {
      "cell_type": "code",
      "source": [
        "import numpy as np\n",
        "import matplotlib.pyplot as plt\n",
        "\n",
        "plt.rcParams[\"figure.figsize\"] = [7.50, 3.50]\n",
        "plt.rcParams[\"figure.autolayout\"] = True\n",
        "\n",
        "\n",
        "\n",
        "plt.title(\"Predicted values of oxygen\")\n",
        "plt.plot(my_array, color=\"red\")\n",
        "plt.xlabel('Number of datapoints', fontsize=14)\n",
        "plt.ylabel('Predicted values of oxygen', fontsize=14)\n",
        "plt.savefig(\"predictedoxygen.png\")\n",
        "plt.show()"
      ],
      "metadata": {
        "colab": {
          "base_uri": "https://localhost:8080/",
          "height": 261
        },
        "id": "RarVSSG9z00O",
        "outputId": "de47e118-c679-48e3-ce0b-bcdc240372f4"
      },
      "execution_count": 40,
      "outputs": [
        {
          "output_type": "display_data",
          "data": {
            "text/plain": [
              "<Figure size 540x252 with 1 Axes>"
            ],
            "image/png": "[encoded data removed]"
          },
          "metadata": {
            "needs_background": "light"
          }
        }
      ]
    },
    {
      "cell_type": "code",
      "source": [
        "import numpy as np\n",
        "import matplotlib.pyplot as plt\n",
        "\n",
        "plt.rcParams[\"figure.figsize\"] = [7.50, 3.50]\n",
        "plt.rcParams[\"figure.autolayout\"] = True\n",
        "\n",
        "\n",
        "\n",
        "plt.title('Time Series Prediction', fontsize=16)\n",
        "plt.xlabel('Number of datapoints', fontsize=14)\n",
        "plt.ylabel('Actual and Predicted values of oxygen', fontsize=14)\n",
        "plt.plot(my_array, color=\"red\",label='Actual points')\n",
        "plt.plot(y_test,color='b',label='predicted points')\n",
        "plt.legend();\n",
        "plt.savefig(\"oxygen.png\")\n",
        "plt.show()"
      ],
      "metadata": {
        "colab": {
          "base_uri": "https://localhost:8080/",
          "height": 300
        },
        "id": "ZwhrVKfrzJjD",
        "outputId": "f8128db4-bcbb-454b-9757-0d4fed011563"
      },
      "execution_count": 41,
      "outputs": [
        {
          "output_type": "display_data",
          "data": {
            "text/plain": [
              "<Figure size 540x252 with 1 Axes>"
            ],
            "image/png": "[encoded data removed]"
          },
          "metadata": {
            "needs_background": "light"
          }
        }
      ]
    },
    {
      "cell_type": "code",
      "source": [
        ""
      ],
      "metadata": {
        "id": "tuV8v5QJZKOb"
      },
      "execution_count": null,
      "outputs": []
    }
  ]
}